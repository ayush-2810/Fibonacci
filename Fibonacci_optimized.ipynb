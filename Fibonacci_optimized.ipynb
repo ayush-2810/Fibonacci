{
 "cells": [
  {
   "cell_type": "code",
   "execution_count": null,
   "metadata": {},
   "outputs": [],
   "source": [
    "# Fibonacci Series using  \n",
    "# Optimized Method \n",
    "  \n",
    "# function that returns nth  \n",
    "# Fibonacci number  \n",
    "def fib(n): \n",
    "      \n",
    "    F = [[1, 1], \n",
    "         [1, 0]] \n",
    "    if (n == 0): \n",
    "        return 0\n",
    "    power(F, n - 1) \n",
    "          \n",
    "    return F[0][0] \n",
    "      \n",
    "def multiply(F, M): \n",
    "      \n",
    "    x = (F[0][0] * M[0][0] + \n",
    "         F[0][1] * M[1][0]) \n",
    "    y = (F[0][0] * M[0][1] + \n",
    "         F[0][1] * M[1][1]) \n",
    "    z = (F[1][0] * M[0][0] + \n",
    "         F[1][1] * M[1][0]) \n",
    "    w = (F[1][0] * M[0][1] + \n",
    "         F[1][1] * M[1][1]) \n",
    "      \n",
    "    F[0][0] = x \n",
    "    F[0][1] = y \n",
    "    F[1][0] = z \n",
    "    F[1][1] = w \n",
    "          \n",
    "# Optimized version of \n",
    "# power() in method 4  \n",
    "def power(F, n): \n",
    "  \n",
    "    if( n == 0 or n == 1): \n",
    "        return; \n",
    "    M = [[1, 1], \n",
    "         [1, 0]]; \n",
    "          \n",
    "    power(F, n // 2) \n",
    "    multiply(F, F) \n",
    "          \n",
    "    if (n % 2 != 0): \n",
    "        multiply(F, M) \n",
    "         \n",
    "n=int(input())\n",
    "print(fib(n)) "
   ]
  }
 ],
 "metadata": {
  "kernelspec": {
   "display_name": "Python 3",
   "language": "python",
   "name": "python3"
  },
  "language_info": {
   "codemirror_mode": {
    "name": "ipython",
    "version": 3
   },
   "file_extension": ".py",
   "mimetype": "text/x-python",
   "name": "python",
   "nbconvert_exporter": "python",
   "pygments_lexer": "ipython3",
   "version": "3.7.0"
  }
 },
 "nbformat": 4,
 "nbformat_minor": 2
}
