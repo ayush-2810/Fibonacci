{
 "cells": [
  {
   "cell_type": "code",
   "execution_count": null,
   "metadata": {},
   "outputs": [],
   "source": [
    "# Fibonacci Series using Dynamic Programming  \n",
    "def Fibonacci(n):  \n",
    "      \n",
    "    # Taking 1st two fibonacci nubers as 0 and 1  \n",
    "    FibArray = [0, 1]  \n",
    "      \n",
    "    while len(FibArray) < n + 1:  \n",
    "        FibArray.append(0)  \n",
    "      \n",
    "    if n <= 1:  \n",
    "        return n  \n",
    "    else:  \n",
    "        if FibArray[n - 1] == 0:  \n",
    "            FibArray[n - 1] = Fibonacci(n - 1)  \n",
    "  \n",
    "        if FibArray[n - 2] == 0:  \n",
    "            FibArray[n - 2] = Fibonacci(n - 2)  \n",
    "              \n",
    "    FibArray[n] = FibArray[n - 2] + FibArray[n - 1]  \n",
    "    return FibArray[n]  \n",
    "         \n",
    "n=int(input())\n",
    "print(Fibonacci(n)) "
   ]
  }
 ],
 "metadata": {
  "kernelspec": {
   "display_name": "Python 3",
   "language": "python",
   "name": "python3"
  },
  "language_info": {
   "codemirror_mode": {
    "name": "ipython",
    "version": 3
   },
   "file_extension": ".py",
   "mimetype": "text/x-python",
   "name": "python",
   "nbconvert_exporter": "python",
   "pygments_lexer": "ipython3",
   "version": "3.7.0"
  }
 },
 "nbformat": 4,
 "nbformat_minor": 2
}
